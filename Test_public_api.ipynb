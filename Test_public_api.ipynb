{
  "nbformat": 4,
  "nbformat_minor": 0,
  "metadata": {
    "colab": {
      "provenance": [],
      "toc_visible": true
    },
    "kernelspec": {
      "name": "python3",
      "display_name": "Python 3"
    },
    "language_info": {
      "name": "python"
    }
  },
  "cells": [
    {
      "cell_type": "markdown",
      "source": [
        "# Imports"
      ],
      "metadata": {
        "id": "HJ69TODiuaEu"
      }
    },
    {
      "cell_type": "code",
      "execution_count": null,
      "metadata": {
        "colab": {
          "base_uri": "https://localhost:8080/"
        },
        "id": "n09zeH4_bcMJ",
        "outputId": "2a598b07-0ad6-4ca5-cf5a-78b06bae97da"
      },
      "outputs": [
        {
          "output_type": "stream",
          "name": "stdout",
          "text": [
            "Requirement already satisfied: requests in /usr/local/lib/python3.10/dist-packages (2.31.0)\n",
            "Requirement already satisfied: charset-normalizer<4,>=2 in /usr/local/lib/python3.10/dist-packages (from requests) (3.3.2)\n",
            "Requirement already satisfied: idna<4,>=2.5 in /usr/local/lib/python3.10/dist-packages (from requests) (3.7)\n",
            "Requirement already satisfied: urllib3<3,>=1.21.1 in /usr/local/lib/python3.10/dist-packages (from requests) (2.0.7)\n",
            "Requirement already satisfied: certifi>=2017.4.17 in /usr/local/lib/python3.10/dist-packages (from requests) (2024.2.2)\n"
          ]
        }
      ],
      "source": [
        "!pip install requests"
      ]
    },
    {
      "cell_type": "markdown",
      "source": [
        "# SOLICITUD POST"
      ],
      "metadata": {
        "id": "W35oXlHHumyJ"
      }
    },
    {
      "cell_type": "code",
      "source": [
        "import requests\n",
        "import json\n",
        "\n",
        "# URL de la API\n",
        "url = \"https://api.restful-api.dev/objects\"\n",
        "\n",
        "# Datos que se enviarán en la solicitud POST\n",
        "payload = {\n",
        "    \"name\": \"Apple MacBook Pro 16\",\n",
        "    \"data\": {\n",
        "        \"year\": 2019,\n",
        "        \"price\": 1849.99,\n",
        "        \"CPU model\": \"Intel Core i9\",\n",
        "        \"Hard disk size\": \"2 TB\"\n",
        "    }\n",
        "}\n",
        "\n",
        "# Encabezados de la solicitud\n",
        "headers = {\n",
        "    'Content-Type': 'application/json',\n",
        "    'Accept': 'application/json'\n",
        "}\n",
        "\n",
        "try:\n",
        "    # Realizar la solicitud POST\n",
        "    response = requests.post(url, data=json.dumps(payload), headers=headers)\n",
        "\n",
        "    # Verificar el código de estado de la respuesta\n",
        "    if response.status_code == 200:\n",
        "        print(\"Objeto creado exitosamente:\")\n",
        "        print(response.json())\n",
        "    else:\n",
        "        print(f\"Error: {response.status_code}\")\n",
        "        print(response.json())\n",
        "except requests.exceptions.RequestException as e:\n",
        "    print(f\"Error en la solicitud: {e}\")"
      ],
      "metadata": {
        "colab": {
          "base_uri": "https://localhost:8080/"
        },
        "id": "-s1tl1KlbdfE",
        "outputId": "a337c19d-5b1e-4921-cb03-bd2d470446ed"
      },
      "execution_count": null,
      "outputs": [
        {
          "output_type": "stream",
          "name": "stdout",
          "text": [
            "Objeto creado exitosamente:\n",
            "{'id': 'ff8081818f86ee10018f89b0631f047e', 'name': 'Apple MacBook Pro 16', 'createdAt': '2024-05-18T03:13:09.409+00:00', 'data': {'year': 2019, 'price': 1849.99, 'CPU model': 'Intel Core i9', 'Hard disk size': '2 TB'}}\n"
          ]
        }
      ]
    },
    {
      "cell_type": "markdown",
      "source": [
        "# SOLICITUD GET"
      ],
      "metadata": {
        "id": "Y6ldkSekumSR"
      }
    },
    {
      "cell_type": "code",
      "source": [
        "import requests\n",
        "\n",
        "# URL de la API con parámetros de consulta\n",
        "url = \"https://api.restful-api.dev/objects\"\n",
        "\n",
        "\n",
        "try:\n",
        "    # Realizar la solicitud GET\n",
        "    response = requests.get(url)\n",
        "\n",
        "    # Verificar el código de estado de la respuesta\n",
        "    if response.status_code == 200:\n",
        "        print(response.json())\n",
        "    else:\n",
        "        print(f\"Error: {response.status_code}\")\n",
        "        print(response.json())\n",
        "except requests.exceptions.RequestException as e:\n",
        "    print(f\"Error en la solicitud: {e}\")"
      ],
      "metadata": {
        "colab": {
          "base_uri": "https://localhost:8080/"
        },
        "id": "i_yQTBR9o_RY",
        "outputId": "4cd17233-cca1-43fa-9d1e-8e0d0ad38c6f"
      },
      "execution_count": null,
      "outputs": [
        {
          "output_type": "stream",
          "name": "stdout",
          "text": [
            "[{'id': '1', 'name': 'Google Pixel 6 Pro', 'data': {'color': 'Cloudy White', 'capacity': '128 GB'}}, {'id': '2', 'name': 'Apple iPhone 12 Mini, 256GB, Blue', 'data': None}, {'id': '3', 'name': 'Apple iPhone 12 Pro Max', 'data': {'color': 'Cloudy White', 'capacity GB': 512}}, {'id': '4', 'name': 'Apple iPhone 11, 64GB', 'data': {'price': 389.99, 'color': 'Purple'}}, {'id': '5', 'name': 'Samsung Galaxy Z Fold2', 'data': {'price': 689.99, 'color': 'Brown'}}, {'id': '6', 'name': 'Apple AirPods', 'data': {'generation': '3rd', 'price': 120}}, {'id': '7', 'name': 'Apple MacBook Pro 16', 'data': {'year': 2019, 'price': 1849.99, 'CPU model': 'Intel Core i9', 'Hard disk size': '1 TB'}}, {'id': '8', 'name': 'Apple Watch Series 8', 'data': {'Strap Colour': 'Elderberry', 'Case Size': '41mm'}}, {'id': '9', 'name': 'Beats Studio3 Wireless', 'data': {'Color': 'Red', 'Description': 'High-performance wireless noise cancelling headphones'}}, {'id': '10', 'name': 'Apple iPad Mini 5th Gen', 'data': {'Capacity': '64 GB', 'Screen size': 7.9}}, {'id': '11', 'name': 'Apple iPad Mini 5th Gen', 'data': {'Capacity': '254 GB', 'Screen size': 7.9}}, {'id': '12', 'name': 'Apple iPad Air', 'data': {'Generation': '4th', 'Price': '419.99', 'Capacity': '64 GB'}}, {'id': '13', 'name': 'Apple iPad Air', 'data': {'Generation': '4th', 'Price': '519.99', 'Capacity': '256 GB'}}]\n"
          ]
        }
      ]
    },
    {
      "cell_type": "code",
      "source": [
        "import requests\n",
        "\n",
        "# URL de la API con parámetros de consulta\n",
        "url = \"https://api.restful-api.dev/objects\"\n",
        "params = {\n",
        "    'id': ['ff8081818f86ee10018f89b0631f047e']  # Lista de IDs como parámetros de consulta\n",
        "}\n",
        "\n",
        "try:\n",
        "    # Realizar la solicitud GET\n",
        "    response = requests.get(url, params=params)\n",
        "\n",
        "    # Verificar el código de estado de la respuesta\n",
        "    if response.status_code == 200:\n",
        "        print(response.json())\n",
        "    else:\n",
        "        print(f\"Error: {response.status_code}\")\n",
        "        print(response.json())\n",
        "except requests.exceptions.RequestException as e:\n",
        "    print(f\"Error en la solicitud: {e}\")"
      ],
      "metadata": {
        "colab": {
          "base_uri": "https://localhost:8080/"
        },
        "id": "zhQjJ4oOoP1I",
        "outputId": "7c612663-bc8b-41b1-e601-9659299f94d8"
      },
      "execution_count": null,
      "outputs": [
        {
          "output_type": "stream",
          "name": "stdout",
          "text": [
            "[]\n"
          ]
        }
      ]
    },
    {
      "cell_type": "markdown",
      "source": [
        "# SOLICITUD PUT"
      ],
      "metadata": {
        "id": "HQp2aXrZu1ZM"
      }
    },
    {
      "cell_type": "code",
      "source": [
        "import requests\n",
        "import json\n",
        "\n",
        "# URL de la API para la solicitud PUT\n",
        "url = \"https://api.restful-api.dev/objects/ff8081818f86ee10018f89b0631f047e\"\n",
        "\n",
        "# Cuerpo de la solicitud PUT\n",
        "payload = {\n",
        "    \"name\": \"Apple MacBook Pro 16\",\n",
        "    \"data\": {\n",
        "        \"year\": 2019,\n",
        "        \"price\": 1849.99,\n",
        "        \"CPU model\": \"Intel Core i9\",\n",
        "        \"Hard disk size\": \"1 TB\",\n",
        "        \"color\": \"Cloudy White\",\n",
        "        \"capacity\": \"128 GB\"\n",
        "    }\n",
        "}\n",
        "\n",
        "# Encabezados de la solicitud\n",
        "headers = {\n",
        "    'Content-Type': 'application/json'\n",
        "}\n",
        "\n",
        "try:\n",
        "    # Realizar la solicitud PUT\n",
        "    response = requests.put(url, data=json.dumps(payload), headers=headers)\n",
        "\n",
        "    # Verificar el código de estado de la respuesta\n",
        "    if response.status_code == 200:\n",
        "        print(\"Datos actualizados exitosamente:\")\n",
        "        print(response.json())\n",
        "    else:\n",
        "        print(f\"Error: {response.status_code}\")\n",
        "        print(response.json())\n",
        "except requests.exceptions.RequestException as e:\n",
        "    print(f\"Error en la solicitud: {e}\")\n"
      ],
      "metadata": {
        "colab": {
          "base_uri": "https://localhost:8080/"
        },
        "id": "_WV3enR6psUY",
        "outputId": "55c5c3d3-691b-4441-d63b-bb005bd99a71"
      },
      "execution_count": null,
      "outputs": [
        {
          "output_type": "stream",
          "name": "stdout",
          "text": [
            "Datos actualizados exitosamente:\n",
            "{'id': 'ff8081818f86ee10018f89b0631f047e', 'name': 'Apple MacBook Pro 16', 'updatedAt': '2024-05-18T03:31:31.025+00:00', 'data': {'year': 2019, 'price': 1849.99, 'CPU model': 'Intel Core i9', 'Hard disk size': '1 TB', 'color': 'Cloudy White', 'capacity': '128 GB'}}\n"
          ]
        }
      ]
    },
    {
      "cell_type": "markdown",
      "source": [
        "# SOLICITUD PATCH"
      ],
      "metadata": {
        "id": "3OrB3ru6wfOu"
      }
    },
    {
      "cell_type": "code",
      "source": [
        "import requests\n",
        "import json\n",
        "\n",
        "# URL de la API para la solicitud PUT\n",
        "url = \"https://api.restful-api.dev/objects/ff8081818f86ee10018f89b0631f047e\"\n",
        "\n",
        "# Cuerpo de la solicitud PUT\n",
        "payload = {\n",
        "    \"name\": \"Apple MacBook Pro 16 (update)\"\n",
        "    # \"data\": {\n",
        "    #     \"year\": 2019,\n",
        "    #     \"price\": 1849.99,\n",
        "    #     \"CPU model\": \"Intel Core i9\",\n",
        "    #     \"Hard disk size\": \"1 TB\",\n",
        "    #     \"color\": \"Cloudy White\",\n",
        "    #     \"capacity\": \"128 GB\"\n",
        "    # }\n",
        "}\n",
        "\n",
        "# Encabezados de la solicitud\n",
        "headers = {\n",
        "    'Content-Type': 'application/json'\n",
        "}\n",
        "\n",
        "try:\n",
        "    # Realizar la solicitud PUT\n",
        "    response = requests.patch(url, data=json.dumps(payload), headers=headers)\n",
        "\n",
        "    # Verificar el código de estado de la respuesta\n",
        "    if response.status_code == 200:\n",
        "        print(\"Datos actualizados exitosamente:\")\n",
        "        print(response.json())\n",
        "    else:\n",
        "        print(f\"Error: {response.status_code}\")\n",
        "        print(response.json())\n",
        "except requests.exceptions.RequestException as e:\n",
        "    print(f\"Error en la solicitud: {e}\")\n"
      ],
      "metadata": {
        "colab": {
          "base_uri": "https://localhost:8080/"
        },
        "id": "c3K7s7wcwYNe",
        "outputId": "d5e5af98-d6c5-45f8-e7a2-a75da35beafc"
      },
      "execution_count": null,
      "outputs": [
        {
          "output_type": "stream",
          "name": "stdout",
          "text": [
            "Datos actualizados exitosamente:\n",
            "{'id': 'ff8081818f86ee10018f89b0631f047e', 'name': 'Apple MacBook Pro 16 (update)', 'updatedAt': '2024-05-18T03:40:02.320+00:00', 'data': {'capacity': '128 GB UPDATE'}}\n"
          ]
        }
      ]
    },
    {
      "cell_type": "markdown",
      "source": [
        "# SOLICITUD DELETE"
      ],
      "metadata": {
        "id": "94peaY0kxAac"
      }
    },
    {
      "cell_type": "code",
      "source": [
        "import requests\n",
        "\n",
        "# URL de la API con parámetros de consulta\n",
        "url = \"https://api.restful-api.dev/objects/ff8081818f86ee10018f89b0631f047e\"\n",
        "\n",
        "\n",
        "try:\n",
        "    # Realizar la solicitud DELETE\n",
        "    response = requests.delete(url)\n",
        "\n",
        "    # Verificar el código de estado de la respuesta\n",
        "    if response.status_code == 200:\n",
        "        print(response.json())\n",
        "    else:\n",
        "        print(f\"Error: {response.status_code}\")\n",
        "        print(response.json())\n",
        "except requests.exceptions.RequestException as e:\n",
        "    print(f\"Error en la solicitud: {e}\")"
      ],
      "metadata": {
        "colab": {
          "base_uri": "https://localhost:8080/"
        },
        "id": "RlzvwkZIw_11",
        "outputId": "1219c4b2-f299-49df-dc28-02ef9d5f8028"
      },
      "execution_count": null,
      "outputs": [
        {
          "output_type": "stream",
          "name": "stdout",
          "text": [
            "{'message': 'Object with id = ff8081818f86ee10018f89b0631f047e has been deleted.'}\n"
          ]
        }
      ]
    }
  ]
}